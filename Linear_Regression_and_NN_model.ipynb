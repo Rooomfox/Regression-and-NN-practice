{
  "nbformat": 4,
  "nbformat_minor": 0,
  "metadata": {
    "colab": {
      "name": "Linear Regression and NN model.ipynb",
      "provenance": [],
      "collapsed_sections": []
    },
    "kernelspec": {
      "name": "python3",
      "display_name": "Python 3"
    },
    "language_info": {
      "name": "python"
    }
  },
  "cells": [
    {
      "cell_type": "markdown",
      "source": [
        "26 randomly selected discrete data from equation: $y=x_1^2+x_1+x_2^3+x_2^2$"
      ],
      "metadata": {
        "id": "MBq5SmBGQ_1t"
      }
    },
    {
      "cell_type": "code",
      "execution_count": null,
      "metadata": {
        "id": "Wa8vl8dANOFz"
      },
      "outputs": [],
      "source": [
        "import numpy as np\n",
        "import plotly.graph_objects as go"
      ]
    },
    {
      "cell_type": "code",
      "source": [
        "x1 = np.random.rand(26)\n",
        "x2 = np.random.rand(26)\n",
        "y = x1**2 + x1 + x2**3 + x2**2\n",
        "fig = go.Figure(data=[go.Mesh3d(x=x1, y=x2, z=y,\n",
        "                                intensity=y,\n",
        "                                colorscale='Portland',\n",
        "                                opacity=0.8)])\n",
        "fig.show()"
      ],
      "metadata": {
        "id": "g0D9DAVQNx7n"
      },
      "execution_count": null,
      "outputs": []
    },
    {
      "cell_type": "markdown",
      "source": [
        "Given a regression model: $y=w_1x_1+w_2x_2+b$\n",
        "\n",
        "Here we used a mathematical equation, the Normal Equation, that gives a result directly."
      ],
      "metadata": {
        "id": "gzKpqdRBguZW"
      }
    },
    {
      "cell_type": "code",
      "source": [
        "x_b = np.c_[np.ones((26, 1)), x1, x2]\n",
        "theta_best = np.linalg.inv(x_b.T.dot(x_b)).dot(x_b.T).dot(y)\n",
        "print(f'The found equation is: y = {theta_best[2]} x1 + {theta_best[1]} x2 + ({theta_best[0]})')"
      ],
      "metadata": {
        "id": "b9aJdYnreHYP"
      },
      "execution_count": null,
      "outputs": []
    },
    {
      "cell_type": "code",
      "source": [
        "x1_new = np.random.rand(20)\n",
        "x2_new = np.random.rand(20)\n",
        "x_new_b = np.c_[np.ones((20, 1)), x1_new, x2_new]\n",
        "y_predict = x_new_b.dot(theta_best)\n",
        "fig = go.Figure(data=[go.Mesh3d(x=x1_new, y=x2_new, z=y_predict,\n",
        "                                intensity=y_predict,\n",
        "                                colorscale='Portland',\n",
        "                                opacity=0.8)])\n",
        "fig.show()"
      ],
      "metadata": {
        "id": "nBjVKFtJjJh7"
      },
      "execution_count": null,
      "outputs": []
    },
    {
      "cell_type": "markdown",
      "source": [
        "Next, we used Gradient Descent."
      ],
      "metadata": {
        "id": "7YnW9YFbp8-9"
      }
    },
    {
      "cell_type": "code",
      "source": [
        "eta = 0.1  # learning rate\n",
        "n_iterations = 1000\n",
        "m = 26\n",
        "\n",
        "theta = np.random.randn(3, 1)  # random initialization\n",
        "\n",
        "for iteration in range(n_iterations):\n",
        "  grad = 2/m * x_b.T.dot(x_b.dot(theta) - y.reshape(-1, 1))\n",
        "  theta = theta - eta * grad\n",
        "\n",
        "theta = theta.ravel()\n",
        "print(f'The found equation is: y = {theta[2]} x1 + {theta[1]} x2 + ({theta[0]})')"
      ],
      "metadata": {
        "id": "bc91l7xBlfDe"
      },
      "execution_count": null,
      "outputs": []
    },
    {
      "cell_type": "markdown",
      "source": [
        "Add a Sigmoid function after the regression model."
      ],
      "metadata": {
        "id": "YODNdyaNG-5b"
      }
    },
    {
      "cell_type": "code",
      "source": [
        "import math\n",
        "\n",
        "eta2 = 0.005  # learning rate\n",
        "n_iterations2 = 1000\n",
        "m = 26\n",
        "\n",
        "theta2 = np.random.randn(3, 1)  # random initialization\n",
        "\n",
        "for iteration in range(n_iterations2):\n",
        "  sigmoid_func = 1 / (1 + math.e**(-x_b.dot(theta)))\n",
        "  sigmoid_func = sigmoid_func.reshape(-1, 1)\n",
        "  grad2 = 2/m * x_b.T.dot((sigmoid_func - y.reshape(-1, 1)) * sigmoid_func * (1 - sigmoid_func))\n",
        "  theta2 = theta2 - eta2 * grad2\n",
        "\n",
        "theta2 = theta2.ravel()\n",
        "print(f'The found equation is: y = {theta2[2]} x1 + {theta2[1]} x2 + ({theta2[0]})')"
      ],
      "metadata": {
        "id": "Y7FYLOSfTBTd"
      },
      "execution_count": null,
      "outputs": []
    },
    {
      "cell_type": "code",
      "source": [
        "y_predict = x_new_b.dot(theta2)\n",
        "fig = go.Figure(data=[go.Mesh3d(x=x1_new, y=x2_new, z=y_predict,\n",
        "                                intensity=y_predict,\n",
        "                                colorscale='Portland',\n",
        "                                opacity=0.8)])\n",
        "fig.show()"
      ],
      "metadata": {
        "id": "W9niMOjSbZ7w"
      },
      "execution_count": null,
      "outputs": []
    },
    {
      "cell_type": "markdown",
      "source": [
        "Another method with NN."
      ],
      "metadata": {
        "id": "BeOc30DDR8x8"
      }
    },
    {
      "cell_type": "code",
      "source": [
        "import tensorflow as tf\n",
        "from tensorflow import keras"
      ],
      "metadata": {
        "id": "CZXRgwuiSJMs"
      },
      "execution_count": null,
      "outputs": []
    },
    {
      "cell_type": "code",
      "source": [
        "data_set = list(zip(x1, x2, y))\n",
        "data_set = np.random.permutation(data_set)\n",
        "\n",
        "num_t = int(0.8 * len(data_set))\n",
        "data_t = data_set[:num_t]\n",
        "x_train = [(p[0], p[1]) for p in data_t]\n",
        "y_train = [(p[2],) for p in data_t]\n",
        "\n",
        "data_v = data_set[num_t:]\n",
        "x_val = [(p[0], p[1]) for p in data_t]\n",
        "y_val = [(p[2],) for p in data_t]\n",
        "\n",
        "model = keras.models.Sequential([\n",
        "  keras.layers.Dense(2, activation='sigmoid', input_shape=(2,)),\n",
        "  keras.layers.Dense(1)\n",
        "])\n",
        "\n",
        "model.compile(loss='mse', optimizer='sgd',\n",
        "              metrics='mae')\n",
        "history = model.fit(x_train, y_train, epochs=30,\n",
        "                    validation_data=(x_val, y_val))\n",
        "\n",
        "loss = history.history['loss']\n",
        "val_loss = history.history['val_loss']\n",
        "\n",
        "mae = history.history['mae']\n",
        "val_mae = history.history['val_mae']\n",
        "\n",
        "epochs = list(range(1, len(loss) + 1))"
      ],
      "metadata": {
        "id": "NouZYaDxaLME"
      },
      "execution_count": null,
      "outputs": []
    },
    {
      "cell_type": "code",
      "source": [
        "fig = go.Figure()\n",
        "\n",
        "# Add traces\n",
        "fig.add_trace(go.Scatter(x=epochs, y=loss,\n",
        "                    mode='markers',\n",
        "                    name='Training loss'))\n",
        "fig.add_trace(go.Scatter(x=epochs, y=val_loss,\n",
        "                    mode='lines',\n",
        "                    name='Validation loss'))\n",
        "fig.update_layout(title='Training and validation loss',)\n",
        "\n",
        "fig.show()"
      ],
      "metadata": {
        "id": "FI0i0s2hgq_t"
      },
      "execution_count": null,
      "outputs": []
    },
    {
      "cell_type": "code",
      "source": [
        "fig = go.Figure()\n",
        "\n",
        "# Add traces\n",
        "fig.add_trace(go.Scatter(x=epochs, y=mae,\n",
        "                    mode='markers',\n",
        "                    name='Training mae'))\n",
        "fig.add_trace(go.Scatter(x=epochs, y=val_mae,\n",
        "                    mode='lines',\n",
        "                    name='Validation mae'))\n",
        "fig.update_layout(title='Training and validation mae',)\n",
        "\n",
        "fig.show()"
      ],
      "metadata": {
        "id": "POQHlSJNg40k"
      },
      "execution_count": null,
      "outputs": []
    },
    {
      "cell_type": "code",
      "source": [
        "x_test = list(zip(x1_new, x2_new))\n",
        "y_test = model.predict(x_test)\n",
        "y_test = y_test.ravel()\n",
        "fig = go.Figure(data=[go.Mesh3d(x=x1_new, y=x2_new, z=y_test,\n",
        "                                intensity=y_test,\n",
        "                                colorscale='Portland',\n",
        "                                opacity=0.8)])\n",
        "fig.show()"
      ],
      "metadata": {
        "id": "oNKliKZAi3TP"
      },
      "execution_count": null,
      "outputs": []
    }
  ]
}